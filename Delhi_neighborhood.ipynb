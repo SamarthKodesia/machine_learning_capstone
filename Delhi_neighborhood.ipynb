{
    "cells": [
        {
            "metadata": {},
            "cell_type": "markdown",
            "source": "# Battle of Neighborhoods"
        },
        {
            "metadata": {
                "collapsed": true
            },
            "cell_type": "markdown",
            "source": "#### The probem:"
        },
        {
            "metadata": {},
            "cell_type": "markdown",
            "source": "I live in a town called Bareilly which is close to national capital New Delhi. My brother completed his education and moved to Delhi. There he wanted to open a restaurant colse to his house whuch is in South Delhi. Now he was confusted on what sort of restaurant should he open that the people around that area would prefer and would earn him more profits. Since he had just moved to Delhi he had no idea of his surroundings and didn't have enough resources to take surveys.\n\nThis is a very general problem with all the struggling businessmen face when they move to a new city. Even by observations or surveys its not very accurate to predict the kind of business they should start. It are definately many factors on which success of a business depends on. One of the most prominent one being consumer behavior in that area. Particulary in restaurant business, one could study that by getting that data of customer reviews and restaurant popularity of existing ones. Therefore by targetting the 'foodies' one can easily know what kind of restaurant would work in that area.\n\nI though of solving his problem by analysing the neighborhoods of South Delhi and find out what kind of restaurant or cafe are popular in that region, and by analysing that, what sort of restaurant would be financially benificial can easily be predicted. Also by mapping all the restaurants of the popular category on the map, one could even look for the perfect loction in the surrounding slightly awy from the others therefore reducing the risk of competitors.\n"
        },
        {
            "metadata": {},
            "cell_type": "markdown",
            "source": "#### Description of data:"
        },
        {
            "metadata": {},
            "cell_type": "markdown",
            "source": "Initially the required data would be of the neighborhoods in South Delhi. Which can be scrapped for the wikipedia page on Neighborhoods in Delhi (https://en.wikipedia.org/wiki/Neighbourhoods_of_Delhi). The coordinates of the neighborhoods can be found out by using 'Geopy' library's Nominatim. Then by passing the extracted data to 'Foursquare API' all the restaurants in the surrounding neighborhoods can be fetched and stored into a dataframe. The by aggrigating the avaerage frequency of users into restaurants of each kind, the most popular kind/speciality of restaurant can be found out. The by using folium library, all the restaurants with same speciality can be plotted on the map and a strategic location for the restaurant can be picked !"
        },
        {
            "metadata": {},
            "cell_type": "code",
            "source": "",
            "execution_count": null,
            "outputs": []
        }
    ],
    "metadata": {
        "kernelspec": {
            "name": "python3",
            "display_name": "Python 3.6",
            "language": "python"
        },
        "language_info": {
            "name": "python",
            "version": "3.6.9",
            "mimetype": "text/x-python",
            "codemirror_mode": {
                "name": "ipython",
                "version": 3
            },
            "pygments_lexer": "ipython3",
            "nbconvert_exporter": "python",
            "file_extension": ".py"
        }
    },
    "nbformat": 4,
    "nbformat_minor": 1
}